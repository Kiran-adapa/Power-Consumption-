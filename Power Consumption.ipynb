{
 "cells": [
  {
   "cell_type": "code",
   "execution_count": 1,
   "metadata": {},
   "outputs": [],
   "source": [
    "import warnings\n",
    "warnings.filterwarnings('ignore')\n",
    "\n",
    "import numpy as np\n",
    "import pandas as pd\n",
    "import seaborn as sns\n",
    "import matplotlib.pyplot as plt\n",
    "\n",
    "from sklearn.model_selection import train_test_split, GridSearchCV\n",
    "from sklearn.metrics import confusion_matrix, r2_score, mean_squared_error, mean_absolute_error, accuracy_score\n",
    "from sklearn.linear_model import LinearRegression\n",
    "from sklearn.ensemble import RandomForestRegressor\n",
    "from sklearn.preprocessing import StandardScaler\n",
    "from sklearn.tree import DecisionTreeRegressor\n",
    "from sklearn.svm import SVR\n",
    "from sklearn.decomposition import PCA\n",
    "\n"
   ]
  },
  {
   "cell_type": "code",
   "execution_count": 2,
   "metadata": {},
   "outputs": [
    {
     "data": {
      "text/plain": [
       "(52583, 9)"
      ]
     },
     "execution_count": 2,
     "metadata": {},
     "output_type": "execute_result"
    }
   ],
   "source": [
    "df=pd.read_csv(r\"C:\\Users\\kiran\\OneDrive\\文档\\ml project.csv\")\n",
    "df.shape"
   ]
  },
  {
   "cell_type": "code",
   "execution_count": 3,
   "metadata": {},
   "outputs": [
    {
     "name": "stdout",
     "output_type": "stream",
     "text": [
      "<class 'pandas.core.frame.DataFrame'>\n",
      "RangeIndex: 52583 entries, 0 to 52582\n",
      "Data columns (total 9 columns):\n",
      " #   Column                        Non-Null Count  Dtype  \n",
      "---  ------                        --------------  -----  \n",
      " 0   S no                          52583 non-null  int64  \n",
      " 1   Temperature                   52263 non-null  object \n",
      " 2   Humidity                      52558 non-null  object \n",
      " 3   Wind Speed                    52512 non-null  object \n",
      " 4   general diffuse flows         52275 non-null  float64\n",
      " 5   diffuse flows                 52568 non-null  float64\n",
      " 6   Air Quality Index (PM)        52565 non-null  float64\n",
      " 7   Cloudiness                    52583 non-null  int64  \n",
      " 8    Power Consumption in A Zone  52583 non-null  float64\n",
      "dtypes: float64(4), int64(2), object(3)\n",
      "memory usage: 3.6+ MB\n"
     ]
    }
   ],
   "source": [
    "df.info()\n"
   ]
  },
  {
   "cell_type": "code",
   "execution_count": 4,
   "metadata": {},
   "outputs": [
    {
     "data": {
      "text/html": [
       "<div>\n",
       "<style scoped>\n",
       "    .dataframe tbody tr th:only-of-type {\n",
       "        vertical-align: middle;\n",
       "    }\n",
       "\n",
       "    .dataframe tbody tr th {\n",
       "        vertical-align: top;\n",
       "    }\n",
       "\n",
       "    .dataframe thead th {\n",
       "        text-align: right;\n",
       "    }\n",
       "</style>\n",
       "<table border=\"1\" class=\"dataframe\">\n",
       "  <thead>\n",
       "    <tr style=\"text-align: right;\">\n",
       "      <th></th>\n",
       "      <th>S no</th>\n",
       "      <th>general diffuse flows</th>\n",
       "      <th>diffuse flows</th>\n",
       "      <th>Air Quality Index (PM)</th>\n",
       "      <th>Cloudiness</th>\n",
       "      <th>Power Consumption in A Zone</th>\n",
       "    </tr>\n",
       "  </thead>\n",
       "  <tbody>\n",
       "    <tr>\n",
       "      <th>count</th>\n",
       "      <td>52583.000000</td>\n",
       "      <td>52275.000000</td>\n",
       "      <td>52568.000000</td>\n",
       "      <td>52565.000000</td>\n",
       "      <td>52583.000000</td>\n",
       "      <td>52583.000000</td>\n",
       "    </tr>\n",
       "    <tr>\n",
       "      <th>mean</th>\n",
       "      <td>26292.000000</td>\n",
       "      <td>182.964247</td>\n",
       "      <td>74.872330</td>\n",
       "      <td>154.499191</td>\n",
       "      <td>0.009338</td>\n",
       "      <td>31061.821779</td>\n",
       "    </tr>\n",
       "    <tr>\n",
       "      <th>std</th>\n",
       "      <td>15179.548939</td>\n",
       "      <td>264.571351</td>\n",
       "      <td>124.084858</td>\n",
       "      <td>2.871553</td>\n",
       "      <td>0.096180</td>\n",
       "      <td>8021.057455</td>\n",
       "    </tr>\n",
       "    <tr>\n",
       "      <th>min</th>\n",
       "      <td>1.000000</td>\n",
       "      <td>0.004000</td>\n",
       "      <td>0.011000</td>\n",
       "      <td>150.000000</td>\n",
       "      <td>0.000000</td>\n",
       "      <td>9457.750760</td>\n",
       "    </tr>\n",
       "    <tr>\n",
       "      <th>25%</th>\n",
       "      <td>13146.500000</td>\n",
       "      <td>0.062000</td>\n",
       "      <td>0.122000</td>\n",
       "      <td>152.000000</td>\n",
       "      <td>0.000000</td>\n",
       "      <td>24738.858990</td>\n",
       "    </tr>\n",
       "    <tr>\n",
       "      <th>50%</th>\n",
       "      <td>26292.000000</td>\n",
       "      <td>5.226000</td>\n",
       "      <td>4.412000</td>\n",
       "      <td>155.000000</td>\n",
       "      <td>0.000000</td>\n",
       "      <td>31189.787230</td>\n",
       "    </tr>\n",
       "    <tr>\n",
       "      <th>75%</th>\n",
       "      <td>39437.500000</td>\n",
       "      <td>320.100000</td>\n",
       "      <td>100.500000</td>\n",
       "      <td>157.000000</td>\n",
       "      <td>0.000000</td>\n",
       "      <td>36721.582445</td>\n",
       "    </tr>\n",
       "    <tr>\n",
       "      <th>max</th>\n",
       "      <td>52583.000000</td>\n",
       "      <td>1163.000000</td>\n",
       "      <td>936.000000</td>\n",
       "      <td>159.000000</td>\n",
       "      <td>1.000000</td>\n",
       "      <td>52204.395120</td>\n",
       "    </tr>\n",
       "  </tbody>\n",
       "</table>\n",
       "</div>"
      ],
      "text/plain": [
       "               S no  general diffuse flows  diffuse flows  \\\n",
       "count  52583.000000           52275.000000   52568.000000   \n",
       "mean   26292.000000             182.964247      74.872330   \n",
       "std    15179.548939             264.571351     124.084858   \n",
       "min        1.000000               0.004000       0.011000   \n",
       "25%    13146.500000               0.062000       0.122000   \n",
       "50%    26292.000000               5.226000       4.412000   \n",
       "75%    39437.500000             320.100000     100.500000   \n",
       "max    52583.000000            1163.000000     936.000000   \n",
       "\n",
       "       Air Quality Index (PM)    Cloudiness   Power Consumption in A Zone  \n",
       "count            52565.000000  52583.000000                  52583.000000  \n",
       "mean               154.499191      0.009338                  31061.821779  \n",
       "std                  2.871553      0.096180                   8021.057455  \n",
       "min                150.000000      0.000000                   9457.750760  \n",
       "25%                152.000000      0.000000                  24738.858990  \n",
       "50%                155.000000      0.000000                  31189.787230  \n",
       "75%                157.000000      0.000000                  36721.582445  \n",
       "max                159.000000      1.000000                  52204.395120  "
      ]
     },
     "execution_count": 4,
     "metadata": {},
     "output_type": "execute_result"
    }
   ],
   "source": [
    "df.describe()"
   ]
  },
  {
   "cell_type": "code",
   "execution_count": 5,
   "metadata": {},
   "outputs": [
    {
     "data": {
      "text/html": [
       "<div>\n",
       "<style scoped>\n",
       "    .dataframe tbody tr th:only-of-type {\n",
       "        vertical-align: middle;\n",
       "    }\n",
       "\n",
       "    .dataframe tbody tr th {\n",
       "        vertical-align: top;\n",
       "    }\n",
       "\n",
       "    .dataframe thead th {\n",
       "        text-align: right;\n",
       "    }\n",
       "</style>\n",
       "<table border=\"1\" class=\"dataframe\">\n",
       "  <thead>\n",
       "    <tr style=\"text-align: right;\">\n",
       "      <th></th>\n",
       "      <th>Temperature</th>\n",
       "      <th>Humidity</th>\n",
       "      <th>Wind Speed</th>\n",
       "      <th>general diffuse flows</th>\n",
       "      <th>diffuse flows</th>\n",
       "      <th>Air Quality Index (PM)</th>\n",
       "      <th>Cloudiness</th>\n",
       "      <th>Power Consumption in A Zone</th>\n",
       "    </tr>\n",
       "  </thead>\n",
       "  <tbody>\n",
       "    <tr>\n",
       "      <th>0</th>\n",
       "      <td>6.559</td>\n",
       "      <td>73.8</td>\n",
       "      <td>0.083</td>\n",
       "      <td>0.051</td>\n",
       "      <td>0.119</td>\n",
       "      <td>158.0</td>\n",
       "      <td>1</td>\n",
       "      <td>34055.69620</td>\n",
       "    </tr>\n",
       "    <tr>\n",
       "      <th>1</th>\n",
       "      <td>6.414</td>\n",
       "      <td>74.5</td>\n",
       "      <td>0.083</td>\n",
       "      <td>0.070</td>\n",
       "      <td>0.085</td>\n",
       "      <td>159.0</td>\n",
       "      <td>1</td>\n",
       "      <td>29814.68354</td>\n",
       "    </tr>\n",
       "    <tr>\n",
       "      <th>2</th>\n",
       "      <td>6.313</td>\n",
       "      <td>74.5</td>\n",
       "      <td>0.08</td>\n",
       "      <td>0.062</td>\n",
       "      <td>0.100</td>\n",
       "      <td>151.0</td>\n",
       "      <td>1</td>\n",
       "      <td>29128.10127</td>\n",
       "    </tr>\n",
       "    <tr>\n",
       "      <th>3</th>\n",
       "      <td>6.121</td>\n",
       "      <td>75</td>\n",
       "      <td>0.083</td>\n",
       "      <td>0.091</td>\n",
       "      <td>0.096</td>\n",
       "      <td>151.0</td>\n",
       "      <td>1</td>\n",
       "      <td>28228.86076</td>\n",
       "    </tr>\n",
       "    <tr>\n",
       "      <th>4</th>\n",
       "      <td>5.921</td>\n",
       "      <td>75.7</td>\n",
       "      <td>0.081</td>\n",
       "      <td>0.048</td>\n",
       "      <td>0.085</td>\n",
       "      <td>154.0</td>\n",
       "      <td>1</td>\n",
       "      <td>27335.69620</td>\n",
       "    </tr>\n",
       "    <tr>\n",
       "      <th>...</th>\n",
       "      <td>...</td>\n",
       "      <td>...</td>\n",
       "      <td>...</td>\n",
       "      <td>...</td>\n",
       "      <td>...</td>\n",
       "      <td>...</td>\n",
       "      <td>...</td>\n",
       "      <td>...</td>\n",
       "    </tr>\n",
       "    <tr>\n",
       "      <th>52578</th>\n",
       "      <td>NaN</td>\n",
       "      <td>75.6</td>\n",
       "      <td>0.094</td>\n",
       "      <td>436.200</td>\n",
       "      <td>38.960</td>\n",
       "      <td>157.0</td>\n",
       "      <td>0</td>\n",
       "      <td>34444.55696</td>\n",
       "    </tr>\n",
       "    <tr>\n",
       "      <th>52579</th>\n",
       "      <td>NaN</td>\n",
       "      <td>73.5</td>\n",
       "      <td>0.089</td>\n",
       "      <td>451.600</td>\n",
       "      <td>37.730</td>\n",
       "      <td>157.0</td>\n",
       "      <td>0</td>\n",
       "      <td>34438.48101</td>\n",
       "    </tr>\n",
       "    <tr>\n",
       "      <th>52580</th>\n",
       "      <td>NaN</td>\n",
       "      <td>70.1</td>\n",
       "      <td>0.085</td>\n",
       "      <td>466.400</td>\n",
       "      <td>37.490</td>\n",
       "      <td>157.0</td>\n",
       "      <td>0</td>\n",
       "      <td>33873.41772</td>\n",
       "    </tr>\n",
       "    <tr>\n",
       "      <th>52581</th>\n",
       "      <td>NaN</td>\n",
       "      <td>67.75</td>\n",
       "      <td>0.086</td>\n",
       "      <td>477.000</td>\n",
       "      <td>37.370</td>\n",
       "      <td>152.0</td>\n",
       "      <td>0</td>\n",
       "      <td>33988.86076</td>\n",
       "    </tr>\n",
       "    <tr>\n",
       "      <th>52582</th>\n",
       "      <td>NaN</td>\n",
       "      <td>66.24</td>\n",
       "      <td>0.088</td>\n",
       "      <td>485.700</td>\n",
       "      <td>36.720</td>\n",
       "      <td>155.0</td>\n",
       "      <td>0</td>\n",
       "      <td>34158.98734</td>\n",
       "    </tr>\n",
       "  </tbody>\n",
       "</table>\n",
       "<p>52583 rows × 8 columns</p>\n",
       "</div>"
      ],
      "text/plain": [
       "      Temperature Humidity Wind Speed  general diffuse flows  diffuse flows  \\\n",
       "0           6.559     73.8      0.083                  0.051          0.119   \n",
       "1           6.414     74.5      0.083                  0.070          0.085   \n",
       "2           6.313     74.5       0.08                  0.062          0.100   \n",
       "3           6.121       75      0.083                  0.091          0.096   \n",
       "4           5.921     75.7      0.081                  0.048          0.085   \n",
       "...           ...      ...        ...                    ...            ...   \n",
       "52578         NaN     75.6      0.094                436.200         38.960   \n",
       "52579         NaN     73.5      0.089                451.600         37.730   \n",
       "52580         NaN     70.1      0.085                466.400         37.490   \n",
       "52581         NaN    67.75      0.086                477.000         37.370   \n",
       "52582         NaN    66.24      0.088                485.700         36.720   \n",
       "\n",
       "       Air Quality Index (PM)  Cloudiness   Power Consumption in A Zone  \n",
       "0                       158.0           1                   34055.69620  \n",
       "1                       159.0           1                   29814.68354  \n",
       "2                       151.0           1                   29128.10127  \n",
       "3                       151.0           1                   28228.86076  \n",
       "4                       154.0           1                   27335.69620  \n",
       "...                       ...         ...                           ...  \n",
       "52578                   157.0           0                   34444.55696  \n",
       "52579                   157.0           0                   34438.48101  \n",
       "52580                   157.0           0                   33873.41772  \n",
       "52581                   152.0           0                   33988.86076  \n",
       "52582                   155.0           0                   34158.98734  \n",
       "\n",
       "[52583 rows x 8 columns]"
      ]
     },
     "execution_count": 5,
     "metadata": {},
     "output_type": "execute_result"
    }
   ],
   "source": [
    "# removing Serial No column using drop\n",
    "df=df.drop(columns=['S no'],errors='ignore')\n",
    "df"
   ]
  },
  {
   "cell_type": "code",
   "execution_count": 6,
   "metadata": {},
   "outputs": [
    {
     "data": {
      "text/plain": [
       "Temperature                     320\n",
       "Humidity                         25\n",
       "Wind Speed                       71\n",
       "general diffuse flows           308\n",
       "diffuse flows                    15\n",
       "Air Quality Index (PM)           18\n",
       "Cloudiness                        0\n",
       " Power Consumption in A Zone      0\n",
       "dtype: int64"
      ]
     },
     "execution_count": 6,
     "metadata": {},
     "output_type": "execute_result"
    }
   ],
   "source": [
    "# finding the missing values in the dataset\n",
    "df.isna().sum()"
   ]
  },
  {
   "cell_type": "code",
   "execution_count": 7,
   "metadata": {},
   "outputs": [
    {
     "data": {
      "text/html": [
       "<div>\n",
       "<style scoped>\n",
       "    .dataframe tbody tr th:only-of-type {\n",
       "        vertical-align: middle;\n",
       "    }\n",
       "\n",
       "    .dataframe tbody tr th {\n",
       "        vertical-align: top;\n",
       "    }\n",
       "\n",
       "    .dataframe thead th {\n",
       "        text-align: right;\n",
       "    }\n",
       "</style>\n",
       "<table border=\"1\" class=\"dataframe\">\n",
       "  <thead>\n",
       "    <tr style=\"text-align: right;\">\n",
       "      <th></th>\n",
       "      <th>Temperature</th>\n",
       "      <th>Humidity</th>\n",
       "      <th>Wind Speed</th>\n",
       "      <th>general diffuse flows</th>\n",
       "      <th>diffuse flows</th>\n",
       "      <th>Air Quality Index (PM)</th>\n",
       "      <th>Cloudiness</th>\n",
       "      <th>Power Consumption</th>\n",
       "    </tr>\n",
       "  </thead>\n",
       "  <tbody>\n",
       "    <tr>\n",
       "      <th>0</th>\n",
       "      <td>6.559</td>\n",
       "      <td>73.8</td>\n",
       "      <td>0.083</td>\n",
       "      <td>0.051</td>\n",
       "      <td>0.119</td>\n",
       "      <td>158.0</td>\n",
       "      <td>1</td>\n",
       "      <td>34055.69620</td>\n",
       "    </tr>\n",
       "    <tr>\n",
       "      <th>1</th>\n",
       "      <td>6.414</td>\n",
       "      <td>74.5</td>\n",
       "      <td>0.083</td>\n",
       "      <td>0.070</td>\n",
       "      <td>0.085</td>\n",
       "      <td>159.0</td>\n",
       "      <td>1</td>\n",
       "      <td>29814.68354</td>\n",
       "    </tr>\n",
       "    <tr>\n",
       "      <th>2</th>\n",
       "      <td>6.313</td>\n",
       "      <td>74.5</td>\n",
       "      <td>0.08</td>\n",
       "      <td>0.062</td>\n",
       "      <td>0.100</td>\n",
       "      <td>151.0</td>\n",
       "      <td>1</td>\n",
       "      <td>29128.10127</td>\n",
       "    </tr>\n",
       "    <tr>\n",
       "      <th>3</th>\n",
       "      <td>6.121</td>\n",
       "      <td>75</td>\n",
       "      <td>0.083</td>\n",
       "      <td>0.091</td>\n",
       "      <td>0.096</td>\n",
       "      <td>151.0</td>\n",
       "      <td>1</td>\n",
       "      <td>28228.86076</td>\n",
       "    </tr>\n",
       "    <tr>\n",
       "      <th>4</th>\n",
       "      <td>5.921</td>\n",
       "      <td>75.7</td>\n",
       "      <td>0.081</td>\n",
       "      <td>0.048</td>\n",
       "      <td>0.085</td>\n",
       "      <td>154.0</td>\n",
       "      <td>1</td>\n",
       "      <td>27335.69620</td>\n",
       "    </tr>\n",
       "    <tr>\n",
       "      <th>...</th>\n",
       "      <td>...</td>\n",
       "      <td>...</td>\n",
       "      <td>...</td>\n",
       "      <td>...</td>\n",
       "      <td>...</td>\n",
       "      <td>...</td>\n",
       "      <td>...</td>\n",
       "      <td>...</td>\n",
       "    </tr>\n",
       "    <tr>\n",
       "      <th>52578</th>\n",
       "      <td>NaN</td>\n",
       "      <td>75.6</td>\n",
       "      <td>0.094</td>\n",
       "      <td>436.200</td>\n",
       "      <td>38.960</td>\n",
       "      <td>157.0</td>\n",
       "      <td>0</td>\n",
       "      <td>34444.55696</td>\n",
       "    </tr>\n",
       "    <tr>\n",
       "      <th>52579</th>\n",
       "      <td>NaN</td>\n",
       "      <td>73.5</td>\n",
       "      <td>0.089</td>\n",
       "      <td>451.600</td>\n",
       "      <td>37.730</td>\n",
       "      <td>157.0</td>\n",
       "      <td>0</td>\n",
       "      <td>34438.48101</td>\n",
       "    </tr>\n",
       "    <tr>\n",
       "      <th>52580</th>\n",
       "      <td>NaN</td>\n",
       "      <td>70.1</td>\n",
       "      <td>0.085</td>\n",
       "      <td>466.400</td>\n",
       "      <td>37.490</td>\n",
       "      <td>157.0</td>\n",
       "      <td>0</td>\n",
       "      <td>33873.41772</td>\n",
       "    </tr>\n",
       "    <tr>\n",
       "      <th>52581</th>\n",
       "      <td>NaN</td>\n",
       "      <td>67.75</td>\n",
       "      <td>0.086</td>\n",
       "      <td>477.000</td>\n",
       "      <td>37.370</td>\n",
       "      <td>152.0</td>\n",
       "      <td>0</td>\n",
       "      <td>33988.86076</td>\n",
       "    </tr>\n",
       "    <tr>\n",
       "      <th>52582</th>\n",
       "      <td>NaN</td>\n",
       "      <td>66.24</td>\n",
       "      <td>0.088</td>\n",
       "      <td>485.700</td>\n",
       "      <td>36.720</td>\n",
       "      <td>155.0</td>\n",
       "      <td>0</td>\n",
       "      <td>34158.98734</td>\n",
       "    </tr>\n",
       "  </tbody>\n",
       "</table>\n",
       "<p>52583 rows × 8 columns</p>\n",
       "</div>"
      ],
      "text/plain": [
       "      Temperature Humidity Wind Speed  general diffuse flows  diffuse flows  \\\n",
       "0           6.559     73.8      0.083                  0.051          0.119   \n",
       "1           6.414     74.5      0.083                  0.070          0.085   \n",
       "2           6.313     74.5       0.08                  0.062          0.100   \n",
       "3           6.121       75      0.083                  0.091          0.096   \n",
       "4           5.921     75.7      0.081                  0.048          0.085   \n",
       "...           ...      ...        ...                    ...            ...   \n",
       "52578         NaN     75.6      0.094                436.200         38.960   \n",
       "52579         NaN     73.5      0.089                451.600         37.730   \n",
       "52580         NaN     70.1      0.085                466.400         37.490   \n",
       "52581         NaN    67.75      0.086                477.000         37.370   \n",
       "52582         NaN    66.24      0.088                485.700         36.720   \n",
       "\n",
       "       Air Quality Index (PM)  Cloudiness  Power Consumption  \n",
       "0                       158.0           1        34055.69620  \n",
       "1                       159.0           1        29814.68354  \n",
       "2                       151.0           1        29128.10127  \n",
       "3                       151.0           1        28228.86076  \n",
       "4                       154.0           1        27335.69620  \n",
       "...                       ...         ...                ...  \n",
       "52578                   157.0           0        34444.55696  \n",
       "52579                   157.0           0        34438.48101  \n",
       "52580                   157.0           0        33873.41772  \n",
       "52581                   152.0           0        33988.86076  \n",
       "52582                   155.0           0        34158.98734  \n",
       "\n",
       "[52583 rows x 8 columns]"
      ]
     },
     "execution_count": 7,
     "metadata": {},
     "output_type": "execute_result"
    }
   ],
   "source": [
    "# rename the power consumption in a zone column as power consumption\n",
    "df.rename(columns={' Power Consumption in A Zone':'Power Consumption'},inplace=True)\n",
    "df"
   ]
  },
  {
   "cell_type": "code",
   "execution_count": 8,
   "metadata": {},
   "outputs": [],
   "source": [
    "## convert the  object data type to Numeric data type\n",
    "df['Temperature']=pd.to_numeric(df['Temperature'],errors='coerce')\n",
    "df['Humidity']=pd.to_numeric(df['Humidity'],errors='coerce')\n",
    "df['Wind Speed']=pd.to_numeric(df['Wind Speed'],errors='coerce')"
   ]
  },
  {
   "cell_type": "code",
   "execution_count": 9,
   "metadata": {},
   "outputs": [],
   "source": [
    "## Handling missing values\n",
    "df['Temperature']=df['Temperature'].fillna(df['Temperature'].mean()).iloc[0]\n",
    "df['Humidity']=df['Humidity'].fillna(df['Humidity'].mean()).iloc[0]\n",
    "df['Wind Speed']=df['Wind Speed'].fillna(df['Wind Speed'].mean()).iloc[0]\n",
    "df['general diffuse flows']=df['general diffuse flows'].fillna(df['general diffuse flows'].mean()).iloc[0]\n",
    "df['diffuse flows']=df['diffuse flows'].fillna(df['diffuse flows'].mean()).iloc[0]\n",
    "df['Air Quality Index (PM)']=df['Air Quality Index (PM)'].fillna(df['Air Quality Index (PM)'].mean()).iloc[0]"
   ]
  },
  {
   "cell_type": "code",
   "execution_count": 10,
   "metadata": {},
   "outputs": [
    {
     "name": "stdout",
     "output_type": "stream",
     "text": [
      "<class 'pandas.core.frame.DataFrame'>\n",
      "RangeIndex: 52583 entries, 0 to 52582\n",
      "Data columns (total 8 columns):\n",
      " #   Column                  Non-Null Count  Dtype  \n",
      "---  ------                  --------------  -----  \n",
      " 0   Temperature             52583 non-null  float64\n",
      " 1   Humidity                52583 non-null  float64\n",
      " 2   Wind Speed              52583 non-null  float64\n",
      " 3   general diffuse flows   52583 non-null  float64\n",
      " 4   diffuse flows           52583 non-null  float64\n",
      " 5   Air Quality Index (PM)  52583 non-null  float64\n",
      " 6   Cloudiness              52583 non-null  int64  \n",
      " 7   Power Consumption       52583 non-null  float64\n",
      "dtypes: float64(7), int64(1)\n",
      "memory usage: 3.2 MB\n"
     ]
    }
   ],
   "source": [
    "# checking any column has object or string datatype \n",
    "df.info()"
   ]
  },
  {
   "cell_type": "code",
   "execution_count": 11,
   "metadata": {},
   "outputs": [
    {
     "data": {
      "text/plain": [
       "Temperature               0\n",
       "Humidity                  0\n",
       "Wind Speed                0\n",
       "general diffuse flows     0\n",
       "diffuse flows             0\n",
       "Air Quality Index (PM)    0\n",
       "Cloudiness                0\n",
       "Power Consumption         0\n",
       "dtype: int64"
      ]
     },
     "execution_count": 11,
     "metadata": {},
     "output_type": "execute_result"
    }
   ],
   "source": [
    "## checkin null values \n",
    "df.isna().sum()"
   ]
  },
  {
   "cell_type": "code",
   "execution_count": 12,
   "metadata": {},
   "outputs": [],
   "source": [
    "#Training the dataset\n",
    "features = [\"Temperature\", \"Humidity\", \"Wind Speed\", \"general diffuse flows\",\"diffuse flows\", \"Air Quality Index (PM)\", \"Cloudiness\"]\n",
    "X = df[features]\n",
    "y=df['Power Consumption']\n"
   ]
  },
  {
   "cell_type": "code",
   "execution_count": null,
   "metadata": {},
   "outputs": [],
   "source": [
    "\n",
    "\n"
   ]
  },
  {
   "cell_type": "code",
   "execution_count": 13,
   "metadata": {},
   "outputs": [
    {
     "data": {
      "image/png": "[encoded data removed]",
      "text/plain": [
       "<Figure size 2000x600 with 1 Axes>"
      ]
     },
     "metadata": {},
     "output_type": "display_data"
    }
   ],
   "source": [
    "#  Histogram of Power Consumption\n",
    "plt.figure(figsize=(20,6))\n",
    "sns.histplot(df['Power Consumption'],bins=50,kde=True)\n",
    "plt.title(' Histogram of Power Consumption')\n",
    "plt.xlabel('Power Consumption')\n",
    "\n",
    "plt.ylabel('Frequency')\n",
    "plt.show()"
   ]
  },
  {
   "cell_type": "code",
   "execution_count": 26,
   "metadata": {},
   "outputs": [
    {
     "data": {
      "text/plain": [
       "array([[ 8.88178420e-16,  2.84217094e-14,  1.38777878e-17, ...,\n",
       "         0.00000000e+00,  0.00000000e+00,  1.03001789e+01],\n",
       "       [ 8.88178420e-16,  2.84217094e-14,  1.38777878e-17, ...,\n",
       "         0.00000000e+00,  0.00000000e+00,  1.03001789e+01],\n",
       "       [ 8.88178420e-16,  2.84217094e-14,  1.38777878e-17, ...,\n",
       "         0.00000000e+00,  0.00000000e+00,  1.03001789e+01],\n",
       "       ...,\n",
       "       [ 8.88178420e-16,  2.84217094e-14,  1.38777878e-17, ...,\n",
       "         0.00000000e+00,  0.00000000e+00, -9.70856919e-02],\n",
       "       [ 8.88178420e-16,  2.84217094e-14,  1.38777878e-17, ...,\n",
       "         0.00000000e+00,  0.00000000e+00, -9.70856919e-02],\n",
       "       [ 8.88178420e-16,  2.84217094e-14,  1.38777878e-17, ...,\n",
       "         0.00000000e+00,  0.00000000e+00, -9.70856919e-02]])"
      ]
     },
     "execution_count": 26,
     "metadata": {},
     "output_type": "execute_result"
    }
   ],
   "source": [
    "sc=StandardScaler()\n",
    "X_scaled=sc.fit_transform(X)\n",
    "X_scaled\n"
   ]
  },
  {
   "cell_type": "code",
   "execution_count": 15,
   "metadata": {},
   "outputs": [],
   "source": [
    "\n",
    "# Apply PCA after standardization\n",
    "pca = PCA(n_components=0.95)  # Retain 95% variance\n",
    "X_pca = pca.fit_transform(X_scaled)\n"
   ]
  },
  {
   "cell_type": "code",
   "execution_count": 16,
   "metadata": {},
   "outputs": [],
   "source": [
    "# Split data into training and testing sets\n",
    "X_train,X_test,y_train,y_test=train_test_split(X_pca,y,test_size=0.2,random_state=101)"
   ]
  },
  {
   "cell_type": "code",
   "execution_count": 17,
   "metadata": {},
   "outputs": [
    {
     "name": "stdout",
     "output_type": "stream",
     "text": [
      "Number of components selected: 1\n",
      "Explained variance ratio: 1.0000\n"
     ]
    }
   ],
   "source": [
    "# Print explained variance ratio\n",
    "print(f\"Number of components selected: {pca.n_components_}\")\n",
    "print(f\"Explained variance ratio: {sum(pca.explained_variance_ratio_):.4f}\")\n"
   ]
  },
  {
   "cell_type": "code",
   "execution_count": 18,
   "metadata": {},
   "outputs": [],
   "source": [
    "# Define hyperparameter grids for tuning\n",
    "param_grids = {\n",
    "    'Random Forest': {\n",
    "        'n_estimators': [50, 100, 200],\n",
    "        'max_depth': [None, 10, 20],\n",
    "        'min_samples_split': [2, 5, 10]\n",
    "    },\n",
    "    'Decision Tree': {\n",
    "        'max_depth': [None, 10, 20, 30],\n",
    "        'min_samples_split': [2, 5, 10]\n",
    "    },\n",
    "    'SVR': {\n",
    "        'C': [0.1, 1, 10],\n",
    "        'kernel': ['linear', 'rbf'],\n",
    "        'gamma': ['scale', 'auto']\n",
    "    },\n",
    "    'Linear Regression': {}\n",
    "}"
   ]
  },
  {
   "cell_type": "code",
   "execution_count": 19,
   "metadata": {},
   "outputs": [],
   "source": [
    "models = {\n",
    "    'Random Forest': RandomForestRegressor(random_state=42),\n",
    "    'Decision Tree': DecisionTreeRegressor(random_state=42),\n",
    "    'SVR': SVR(),\n",
    "    'Linear Regression': LinearRegression()\n",
    "}"
   ]
  },
  {
   "cell_type": "code",
   "execution_count": 20,
   "metadata": {},
   "outputs": [
    {
     "name": "stdout",
     "output_type": "stream",
     "text": [
      "Tuning Random Forest...\n",
      "Best Parameters for Random Forest: {'max_depth': None, 'min_samples_split': 2, 'n_estimators': 50}\n",
      "Tuning Decision Tree...\n",
      "Best Parameters for Decision Tree: {'max_depth': None, 'min_samples_split': 2}\n",
      "Tuning SVR...\n",
      "Best Parameters for SVR: {'C': 10, 'gamma': 'scale', 'kernel': 'linear'}\n",
      "Tuning Linear Regression...\n",
      "Best Parameters for Linear Regression: {}\n"
     ]
    }
   ],
   "source": [
    "# train the model\n",
    "best_models = {}\n",
    "\n",
    "# Perform GridSearchCV for each model\n",
    "for name, model in models.items():\n",
    "    print(f\"Tuning {name}...\")\n",
    "    grid_search = GridSearchCV(model, param_grids[name], cv=5, scoring='r2', n_jobs=-1)\n",
    "    grid_search.fit(X_train, y_train)\n",
    "    best_models[name] = grid_search.best_estimator_\n",
    "    print(f\"Best Parameters for {name}: {grid_search.best_params_}\")\n",
    "\n",
    "# Evaluate models\n",
    "def evaluate_model(model, X_test, y_test):\n",
    "    y_pred = model.predict(X_test)\n",
    "    mae = mean_absolute_error(y_test, y_pred)\n",
    "    mse = mean_squared_error(y_test, y_pred)\n",
    "    #accuracy=accuracy_score(y_test,y_pred)\n",
    "    rmse = np.sqrt(mse)\n",
    "    r2 = r2_score(y_test, y_pred)\n",
    "    return mae, mse, rmse, r2\n",
    " \n"
   ]
  },
  {
   "cell_type": "code",
   "execution_count": 21,
   "metadata": {},
   "outputs": [
    {
     "name": "stdout",
     "output_type": "stream",
     "text": [
      "\n",
      "Evaluating Random Forest...\n",
      "Mean Absolute Error:  63655684.648767814\n",
      "Root Mean Squared Error: 7978.451268809494\n",
      "R2 Score: 0.014118346599883647\n",
      "\n",
      "Evaluating Decision Tree...\n",
      "Mean Absolute Error:  63655729.66173043\n",
      "Root Mean Squared Error: 7978.454089717533\n",
      "R2 Score: 0.014117649451557357\n",
      "\n",
      "Evaluating SVR...\n",
      "Mean Absolute Error:  63677507.263465226\n",
      "Root Mean Squared Error: 7979.818748785289\n",
      "R2 Score: 0.013780363973852516\n",
      "\n",
      "Evaluating Linear Regression...\n",
      "Mean Absolute Error:  63655729.66173043\n",
      "Root Mean Squared Error: 7978.454089717533\n",
      "R2 Score: 0.014117649451557357\n"
     ]
    }
   ],
   "source": [
    "for name, model in best_models.items():\n",
    "    print(f\"\\nEvaluating {name}...\")\n",
    "    mae, mse, rmse, r2  = evaluate_model(model, X_test, y_test)\n",
    "    print(f\"Mean Absolute Error:  {mse}\")\n",
    "    print(f\"Root Mean Squared Error: {rmse}\")\n",
    "    print(f\"R2 Score: {r2}\")"
   ]
  },
  {
   "cell_type": "code",
   "execution_count": 29,
   "metadata": {},
   "outputs": [
    {
     "data": {
      "text/plain": [
       "['pca.pkl']"
      ]
     },
     "execution_count": 29,
     "metadata": {},
     "output_type": "execute_result"
    }
   ],
   "source": [
    "import joblib\n",
    "joblib.dump(best_models['Random Forest'],'random_forest_model.pkl')\n",
    "joblib.dump(sc,'scaled.pkl')\n",
    "joblib.dump(pca,'pca.pkl')"
   ]
  },
  {
   "cell_type": "code",
   "execution_count": null,
   "metadata": {},
   "outputs": [],
   "source": []
  },
  {
   "cell_type": "code",
   "execution_count": 30,
   "metadata": {},
   "outputs": [
    {
     "name": "stdout",
     "output_type": "stream",
     "text": [
      "Scaled PCA input shape: (1, 1)\n",
      "Model expected features: 1\n",
      "Predicted Power Consumption: 21129.49 kWh\n"
     ]
    }
   ],
   "source": [
    "import joblib\n",
    "import numpy as np\n",
    "\n",
    "# Load the trained model, scaler, and PCA\n",
    "model = joblib.load('random_forest_model.pkl')\n",
    "scaler = joblib.load('scaled.pkl')\n",
    "pca = joblib.load('pca.pkl')  # Load PCA model (Must be saved during training)\n",
    "\n",
    "# User input (Original 7 features)\n",
    "user_input = np.array([[10, 50, 5, 20, 15, 40, 60]])\n",
    "\n",
    "# Scale the input using the saved scaler\n",
    "scaled_input = scaler.transform(user_input)\n",
    "\n",
    "# Apply PCA transformation (Fix: Ensure PCA is applied)\n",
    "scaled_input_pca = pca.transform(scaled_input)  \n",
    "\n",
    "# Ensure correct input shape\n",
    "print(f\"Scaled PCA input shape: {scaled_input_pca.shape}\")\n",
    "print(f\"Model expected features: {model.n_features_in_}\")\n",
    "\n",
    "# Make prediction\n",
    "result = model.predict(scaled_input_pca)\n",
    "\n",
    "print(f\"Predicted Power Consumption: {result[0]:.2f} kWh\")\n"
   ]
  },
  {
   "cell_type": "code",
   "execution_count": 31,
   "metadata": {},
   "outputs": [
    {
     "name": "stdout",
     "output_type": "stream",
     "text": [
      "Scaled input shape: (1, 7)\n",
      "Model expected features: 1\n"
     ]
    }
   ],
   "source": [
    "\n",
    "import numpy as np\n",
    "\n",
    "# Check input shape\n",
    "print(f\"Scaled input shape: {scaled_input.shape}\")\n",
    "print(f\"Model expected features: {model.n_features_in_}\")\n",
    "\n",
    "# Reshape if necessary\n",
    "if scaled_input.shape[1] != model.n_features_in_:\n",
    "    scaled_input = scaled_input.reshape(-1, model.n_features_in_)\n",
    "\n",
    "# Make prediction\n",
    "result = model.predict(scaled_input)"
   ]
  },
  {
   "cell_type": "code",
   "execution_count": null,
   "metadata": {},
   "outputs": [],
   "source": []
  },
  {
   "cell_type": "code",
   "execution_count": null,
   "metadata": {},
   "outputs": [],
   "source": []
  },
  {
   "cell_type": "code",
   "execution_count": null,
   "metadata": {},
   "outputs": [],
   "source": []
  },
  {
   "cell_type": "code",
   "execution_count": null,
   "metadata": {},
   "outputs": [],
   "source": []
  }
 ],
 "metadata": {
  "kernelspec": {
   "display_name": "Python 3",
   "language": "python",
   "name": "python3"
  },
  "language_info": {
   "codemirror_mode": {
    "name": "ipython",
    "version": 3
   },
   "file_extension": ".py",
   "mimetype": "text/x-python",
   "name": "python",
   "nbconvert_exporter": "python",
   "pygments_lexer": "ipython3",
   "version": "3.12.9"
  }
 },
 "nbformat": 4,
 "nbformat_minor": 2
}
